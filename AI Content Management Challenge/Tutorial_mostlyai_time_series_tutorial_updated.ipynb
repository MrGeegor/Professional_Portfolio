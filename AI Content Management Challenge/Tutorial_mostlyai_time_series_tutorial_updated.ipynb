{
  "cells": [
    {
      "cell_type": "markdown",
      "id": "1c766a84",
      "metadata": {
        "id": "1c766a84"
      },
      "source": [
        "# Querying & Preparing Time-Series Data with MOSTLY AI SDK\n",
        "Using AI Assistant to Query Connected Data Sources"
      ]
    },
    {
      "cell_type": "markdown",
      "id": "Ei94E55mjCv4",
      "metadata": {
        "id": "Ei94E55mjCv4"
      },
      "source": [
        "Welcome to this tutorial!\n",
        "\n",
        "🧠 What if you could enable **non-technical users to explore real data safely** using natural language queries?\n",
        "\n",
        "--\n",
        "\n",
        "💪 After this tutorial you'll be able to:\n",
        "\n",
        "■ Select subsets of data before training a generator\n",
        "\n",
        "■ Pre-aggregate or transform data before training\n",
        "\n",
        "■ Connect your tables of choice to the Mostly AI Assistant\n",
        "\n",
        "■ Empower non-technical users to explore real data safely\n",
        "\n",
        "\n",
        "--\n",
        "\n",
        "🧐 Which connectors work for this approach? MOSTLY AI supports running custom SQL queries on:\n",
        "\n",
        "■ Cloud storage: AWS S3, Azure Blob, GCP buckets\n",
        "\n",
        "■ Data warehouses: BigQuery, Snowflake, Databricks\n",
        "\n",
        "■ Databases: MySQL, PostgreSQL, Oracle, MariaDB, Microsoft SQL Server, Apache Hive\n",
        "\n",
        "--\n",
        "\n",
        "Let's go!"
      ]
    },
    {
      "cell_type": "markdown",
      "id": "75f0e0b3",
      "metadata": {
        "id": "75f0e0b3"
      },
      "source": [
        "## 🎯 Use Case Context\n",
        "This dataset represents a **typical customer lifecycle**: a customer places one or more orders, each containing one or more items. It’s ideal for demonstrating **multi-sequence, time-series data generation** with MOSTLY AI.\n",
        "\n",
        "Key columns:\n",
        "- `customer_id` for identifying sequences\n",
        "- `order_date` for time alignment\n",
        "\n",
        "This setup simulates a customer behavior dataset that can be explored, queried, and synthesized."
      ]
    },
    {
      "cell_type": "code",
      "execution_count": null,
      "id": "c5e6d074",
      "metadata": {
        "collapsed": true,
        "id": "c5e6d074"
      },
      "outputs": [],
      "source": [
        "# Install and import the MOSTLY AI SDK\n",
        "!pip install mostlyai\n",
        "\n",
        "from mostlyai.sdk import MostlyAI"
      ]
    },
    {
      "cell_type": "code",
      "execution_count": null,
      "id": "69cfe5cc",
      "metadata": {
        "collapsed": true,
        "id": "69cfe5cc"
      },
      "outputs": [],
      "source": [
        "# Authenticate with your API key (replace with actual key)\n",
        "# -- In case you don't have an API key yet: https://app.mostly.ai/settings/api-keys\n",
        "mostly = MostlyAI(\n",
        "    api_key='your_api_key',\n",
        "    base_url='https://app.mostly.ai'\n",
        ")"
      ]
    },
    {
      "cell_type": "code",
      "execution_count": null,
      "id": "ozAObSv_5TBp",
      "metadata": {
        "collapsed": true,
        "id": "ozAObSv_5TBp"
      },
      "outputs": [],
      "source": [
        "# List all connectors in your workspace\n",
        "connectors = mostly.connectors.list()\n",
        "\n",
        "# Print their names and IDs\n",
        "for c in connectors:\n",
        "    print(f\"Name: {c.name}, ID: {c.id}\")"
      ]
    },
    {
      "cell_type": "code",
      "source": [
        "# Connect to your connector of choice. In this case we use a Google Cloud Storage bucket.\n",
        "\n",
        "connector_id = '3ca7cb19-744c-4292-8117-a6c7fb53c4bc'\n",
        "connector = mostly.connectors.get(connector_id)\n",
        "connector"
      ],
      "metadata": {
        "id": "wACLjAr30zz4"
      },
      "id": "wACLjAr30zz4",
      "execution_count": null,
      "outputs": []
    },
    {
      "cell_type": "code",
      "source": [
        "# List all available locations in your connector\n",
        "\n",
        "locations = connector.locations(prefix=None)\n",
        "locations"
      ],
      "metadata": {
        "id": "BVVc-lDJ1R7D"
      },
      "id": "BVVc-lDJ1R7D",
      "execution_count": null,
      "outputs": []
    },
    {
      "cell_type": "code",
      "source": [
        "# List the contents of the 'mostlyai-challenge-bucket/' directory\n",
        "\n",
        "locations_in_bucket = connector.locations(prefix='mostlyai-challenge-bucket/')\n",
        "locations_in_bucket"
      ],
      "metadata": {
        "id": "nHvn8q0y215W"
      },
      "id": "nHvn8q0y215W",
      "execution_count": null,
      "outputs": []
    },
    {
      "cell_type": "code",
      "source": [
        "# Now let's load the data. Starting with the first table:\n",
        "\n",
        "df_customers = connector.read_data(location='mostlyai-challenge-bucket/customers.csv')\n",
        "df_customers.head()"
      ],
      "metadata": {
        "id": "oxyt8BnY69ZD"
      },
      "id": "oxyt8BnY69ZD",
      "execution_count": null,
      "outputs": []
    },
    {
      "cell_type": "code",
      "source": [
        "# The second table:\n",
        "df_order_items = connector.read_data(location='mostlyai-challenge-bucket/order_items.csv')\n",
        "df_order_items.head()\n"
      ],
      "metadata": {
        "id": "fTBODCEV7U0O"
      },
      "id": "fTBODCEV7U0O",
      "execution_count": null,
      "outputs": []
    },
    {
      "cell_type": "code",
      "source": [
        "# The third table:\n",
        "df_orders = connector.read_data(location='mostlyai-challenge-bucket/orders.csv')\n",
        "df_orders.head()"
      ],
      "metadata": {
        "id": "kRuRoutR7bgi"
      },
      "id": "kRuRoutR7bgi",
      "execution_count": null,
      "outputs": []
    },
    {
      "cell_type": "code",
      "source": [
        "# Join orders with customers on customer_id\n",
        "df_orders_customers = df_orders.merge(df_customers, on='customer_id', how='left')\n",
        "\n",
        "# Join the result with order_items on order_id\n",
        "df_full = df_orders_customers.merge(df_order_items, on='order_id', how='left')\n",
        "\n",
        "df_full.head()"
      ],
      "metadata": {
        "id": "f3CAvvjF7oFs"
      },
      "id": "f3CAvvjF7oFs",
      "execution_count": null,
      "outputs": []
    },
    {
      "cell_type": "code",
      "source": [
        "# Let's make sure we teach the synthetic data generator with chronologically correct data\n",
        "df_full = df_full.sort_values(by=['customer_id', 'order_date'])\n",
        "df_full.head()"
      ],
      "metadata": {
        "id": "BDW8B7-d8ADT"
      },
      "id": "BDW8B7-d8ADT",
      "execution_count": null,
      "outputs": []
    },
    {
      "cell_type": "code",
      "source": [
        " # Let's get the file ready for export!\n",
        " df_full.to_csv('data.csv', index=False)"
      ],
      "metadata": {
        "id": "ByB8WfKwDILQ"
      },
      "id": "ByB8WfKwDILQ",
      "execution_count": null,
      "outputs": []
    },
    {
      "cell_type": "markdown",
      "source": [
        "🥳 Congratulations! You completed this tutorial."
      ],
      "metadata": {
        "id": "uiDLPtw9Mo1_"
      },
      "id": "uiDLPtw9Mo1_"
    },
    {
      "cell_type": "markdown",
      "id": "b5334ddf",
      "metadata": {
        "id": "b5334ddf"
      },
      "source": [
        "## ✅ Summary\n",
        "- Connected to a data source\n",
        "- Queried and joined user + transaction + event data\n",
        "- Formatted it for time-series synthetic data generation\n",
        "\n",
        "👉 Try this workflow on your own data or explore the [MOSTLY AI SDK Docs](https://mostly.ai/docs)"
      ]
    },
    {
      "cell_type": "markdown",
      "id": "4f42d793",
      "metadata": {
        "id": "4f42d793"
      },
      "source": [
        "## 🤖 Assistant Prompt Example\n",
        "After uploading the dataset via the UI and linking it to the Assistant, try a query like:\n",
        "\n",
        "> *\"Show me the average number of items per order over the past 6 months.\"*\n",
        "\n",
        "This prompt will be translated into SQL automatically by the Assistant and help users explore the dataset safely."
      ]
    },
    {
      "cell_type": "markdown",
      "source": [
        "# Next:"
      ],
      "metadata": {
        "id": "XBTWjXuW-3fQ"
      },
      "id": "XBTWjXuW-3fQ"
    },
    {
      "cell_type": "markdown",
      "source": [
        "😱 Did you find that some of your tables were missing data? Try this next tutorial on Smart Imputation:\n",
        "https://colab.research.google.com/github/mostly-ai/mostlyai/blob/main/docs/tutorials/smart-imputation/smart-imputation.ipynb"
      ],
      "metadata": {
        "id": "HRV216GFgLD6"
      },
      "id": "HRV216GFgLD6"
    },
    {
      "cell_type": "markdown",
      "source": [
        "🧐 For more info on how to link your specific connector: https://mostly.ai/docs/connectors"
      ],
      "metadata": {
        "id": "bPX5wl4C_Dn6"
      },
      "id": "bPX5wl4C_Dn6"
    }
  ],
  "metadata": {
    "colab": {
      "provenance": []
    },
    "kernelspec": {
      "display_name": "Python 3",
      "name": "python3"
    },
    "language_info": {
      "name": "python"
    }
  },
  "nbformat": 4,
  "nbformat_minor": 5
}